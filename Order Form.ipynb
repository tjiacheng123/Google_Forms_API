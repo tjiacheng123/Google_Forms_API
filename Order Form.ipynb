{
 "cells": [
  {
   "cell_type": "markdown",
   "id": "61c62a60",
   "metadata": {},
   "source": [
    "# Google Forms API\n",
    "This notebook is a documentation on the process of utilizing Google Forms API to retrieve end-user form responses and metadata.\n",
    "<br/>\n",
    "\n",
    "The following steps have been completed to ensure that proper credentials and authorizations have been set up on Google Cloud Platform.\n",
    "\n",
    "1. Create a Google Cloud project for your Google Workspace app, extension, or integration.\n",
    "2. Enable the APIs you want to use in your Google Cloud project.\n",
    "3. Learn how authentication and authorization works when developing for Google Workspace.\n",
    "4. Configure OAuth consent to ensure users can understand and approve what access your app has to their data.\n",
    "5. Create access credentials to authenticate your app's end users or service accounts.\n",
    "\n",
    "### Table of Content\n",
    "1. Connecting to Google Forms API and retrieve the latest response and metadata\n",
    "2. Extracting values from nested dictionaries\n",
    "3. Joining the response table with the metadata table\n",
    "4. Concatenating the relevant information"
   ]
  },
  {
   "cell_type": "markdown",
   "id": "3a749b6a",
   "metadata": {},
   "source": [
    "#### 1. Connecting to Google Forms API and retrieve the latest response and metadata"
   ]
  },
  {
   "cell_type": "code",
   "execution_count": 1,
   "id": "4e62f0d7",
   "metadata": {},
   "outputs": [],
   "source": [
    "from __future__ import print_function\n",
    "from googleapiclient import discovery\n",
    "from apiclient import discovery\n",
    "from httplib2 import Http\n",
    "from oauth2client import client, file, tools"
   ]
  },
  {
   "cell_type": "code",
   "execution_count": 2,
   "id": "3ca15ec7",
   "metadata": {
    "scrolled": false
   },
   "outputs": [
    {
     "name": "stdout",
     "output_type": "stream",
     "text": [
      "\n",
      "Your browser has been opened to visit:\n",
      "\n",
      "    https://accounts.google.com/o/oauth2/auth?client_id=639527455761-80cjs18la5619rc16mt4mkotvr34308k.apps.googleusercontent.com&redirect_uri=http%3A%2F%2Flocalhost%3A8080%2F&scope=https%3A%2F%2Fwww.googleapis.com%2Fauth%2Fforms.responses.readonly&access_type=offline&response_type=code\n",
      "\n",
      "If your browser is on a different machine then exit and re-run this\n",
      "application with the command-line parameter\n",
      "\n",
      "  --noauth_local_webserver\n",
      "\n",
      "Authentication successful.\n"
     ]
    }
   ],
   "source": [
    "SCOPES = \"https://www.googleapis.com/auth/forms.responses.readonly\"\n",
    "DISCOVERY_DOC = \"https://forms.googleapis.com/$discovery/rest?version=v1\"\n",
    "\n",
    "store = file.Storage('token.json')\n",
    "creds = None\n",
    "if not creds or creds.invalid:\n",
    "    flow = client.flow_from_clientsecrets('client_secrets.json', SCOPES)\n",
    "    flags = tools.argparser.parse_args(args=[])\n",
    "    creds = tools.run_flow(flow, store, flags)\n",
    "    service = discovery.build('forms', 'v1', http=creds.authorize(\n",
    "    Http()), discoveryServiceUrl=DISCOVERY_DOC, static_discovery=False)\n",
    "    \n",
    "# Prints the responses of your specified form:\n",
    "form_id = '1g62TUlQuijz5fl-DLDftzsWWy5Q4hELMJwrHIHwj3B4'\n",
    "result = service.forms().responses().list(formId=form_id).execute()"
   ]
  },
  {
   "cell_type": "code",
   "execution_count": 3,
   "id": "35a91967",
   "metadata": {
    "scrolled": true
   },
   "outputs": [
    {
     "name": "stdout",
     "output_type": "stream",
     "text": [
      "\n",
      "Your browser has been opened to visit:\n",
      "\n",
      "    https://accounts.google.com/o/oauth2/auth?client_id=639527455761-80cjs18la5619rc16mt4mkotvr34308k.apps.googleusercontent.com&redirect_uri=http%3A%2F%2Flocalhost%3A8080%2F&scope=https%3A%2F%2Fwww.googleapis.com%2Fauth%2Fforms.body.readonly&access_type=offline&response_type=code\n",
      "\n",
      "If your browser is on a different machine then exit and re-run this\n",
      "application with the command-line parameter\n",
      "\n",
      "  --noauth_local_webserver\n",
      "\n",
      "Authentication successful.\n"
     ]
    }
   ],
   "source": [
    "SCOPES = \"https://www.googleapis.com/auth/forms.body.readonly\"\n",
    "DISCOVERY_DOC = \"https://forms.googleapis.com/$discovery/rest?version=v1\"\n",
    "\n",
    "store = file.Storage('token.json')\n",
    "creds = None\n",
    "if not creds or creds.invalid:\n",
    "    flow = client.flow_from_clientsecrets('client_secrets.json', SCOPES)\n",
    "    flags = tools.argparser.parse_args(args=[])\n",
    "    creds = tools.run_flow(flow, store, flags)\n",
    "    service = discovery.build('forms', 'v1', http=creds.authorize(\n",
    "    Http()), discoveryServiceUrl=DISCOVERY_DOC, static_discovery=False)\n",
    "\n",
    "# Prints the title of the sample form:\n",
    "form_id = '1g62TUlQuijz5fl-DLDftzsWWy5Q4hELMJwrHIHwj3B4'\n",
    "result2 = service.forms().get(formId=form_id).execute()"
   ]
  },
  {
   "cell_type": "markdown",
   "id": "8bf54c26",
   "metadata": {},
   "source": [
    "#### 2. Extracting values from nested dictionaries"
   ]
  },
  {
   "cell_type": "markdown",
   "id": "64361497",
   "metadata": {},
   "source": [
    "The response and metadata downloaded have dictionaries nested within lists. We will therefore be using for loops to extract the necessary information. During this process, we will also be inserting a new column to translate the Chinese characters into English."
   ]
  },
  {
   "cell_type": "code",
   "execution_count": 4,
   "id": "530b2ca6",
   "metadata": {},
   "outputs": [],
   "source": [
    "import pandas as pd\n",
    "import numpy as np"
   ]
  },
  {
   "cell_type": "code",
   "execution_count": 5,
   "id": "5c83e4a9",
   "metadata": {},
   "outputs": [],
   "source": [
    "name_eng = [\"Coke Zero\", \"Coke Original\", \"Pokka Green Tea\", \"Pokka Oolong Tea\", \"China Apple\",\"Season Ice Lemon Tea\"\n",
    "            , \"RedBull (Gold)\",\"Elements Premium Drinking Water 500ml\", \"Elements Premium Drinking Water 1.5L\", \n",
    "            \"Yeos Winter Melon Tea\", \"Yeos Lemon Barley\",\"Kickapoo\", \"Pepsi\", \"Groovy Grape\", \"HSC Oldenlandia\", \n",
    "            \"100 Plus\", \"Juice Secret Pineapple\", \"Yeos Coconut Juice Drink\", \"Jia Jia Herbal\",\n",
    "            \"Pokka Green Tea 1.5L\", \"Seasons Ice Lemon Tea 1.5L\", \"100 Plus 1.5L\", \"Planta Butter\"\n",
    "            ,\"Marigold Evaporated Creamer\" ,\"Kaya\"]"
   ]
  },
  {
   "cell_type": "code",
   "execution_count": 6,
   "id": "62d9e66f",
   "metadata": {},
   "outputs": [
    {
     "data": {
      "text/html": [
       "<div>\n",
       "<style scoped>\n",
       "    .dataframe tbody tr th:only-of-type {\n",
       "        vertical-align: middle;\n",
       "    }\n",
       "\n",
       "    .dataframe tbody tr th {\n",
       "        vertical-align: top;\n",
       "    }\n",
       "\n",
       "    .dataframe thead th {\n",
       "        text-align: right;\n",
       "    }\n",
       "</style>\n",
       "<table border=\"1\" class=\"dataframe\">\n",
       "  <thead>\n",
       "    <tr style=\"text-align: right;\">\n",
       "      <th></th>\n",
       "      <th>drinksid</th>\n",
       "      <th>name</th>\n",
       "      <th>name_eng</th>\n",
       "    </tr>\n",
       "  </thead>\n",
       "  <tbody>\n",
       "    <tr>\n",
       "      <th>0</th>\n",
       "      <td>1ba9a5f0</td>\n",
       "      <td>可口可乐 (黑)</td>\n",
       "      <td>Coke Zero</td>\n",
       "    </tr>\n",
       "    <tr>\n",
       "      <th>1</th>\n",
       "      <td>6bdb79dc</td>\n",
       "      <td>可口可乐 (红)</td>\n",
       "      <td>Coke Original</td>\n",
       "    </tr>\n",
       "    <tr>\n",
       "      <th>2</th>\n",
       "      <td>359eb913</td>\n",
       "      <td>绿茶</td>\n",
       "      <td>Pokka Green Tea</td>\n",
       "    </tr>\n",
       "    <tr>\n",
       "      <th>3</th>\n",
       "      <td>01ff9043</td>\n",
       "      <td>乌龙茶</td>\n",
       "      <td>Pokka Oolong Tea</td>\n",
       "    </tr>\n",
       "    <tr>\n",
       "      <th>4</th>\n",
       "      <td>781aa0d5</td>\n",
       "      <td>中国苹果</td>\n",
       "      <td>China Apple</td>\n",
       "    </tr>\n",
       "  </tbody>\n",
       "</table>\n",
       "</div>"
      ],
      "text/plain": [
       "   drinksid       name          name_eng\n",
       "0  1ba9a5f0  可口可乐 (黑)          Coke Zero\n",
       "1  6bdb79dc  可口可乐 (红)      Coke Original\n",
       "2  359eb913        绿茶    Pokka Green Tea\n",
       "3  01ff9043       乌龙茶   Pokka Oolong Tea\n",
       "4  781aa0d5       中国苹果       China Apple"
      ]
     },
     "execution_count": 6,
     "metadata": {},
     "output_type": "execute_result"
    }
   ],
   "source": [
    "drinksid = []\n",
    "name = []\n",
    "for i in result2['items']:\n",
    "    drinksid.append(i['questionItem']['question']['questionId'])\n",
    "    name.append((i['title']))\n",
    "drinks_info = {'drinksid': drinksid, 'name':name, 'name_eng':name_eng}\n",
    "drinks_info = pd.DataFrame(drinks_info)\n",
    "drinks_info.head()"
   ]
  },
  {
   "cell_type": "code",
   "execution_count": 7,
   "id": "9d2b06da",
   "metadata": {},
   "outputs": [],
   "source": [
    "my_list = result['responses'][0]['answers'].values()"
   ]
  },
  {
   "cell_type": "code",
   "execution_count": 8,
   "id": "69b9ed5d",
   "metadata": {},
   "outputs": [
    {
     "data": {
      "text/html": [
       "<div>\n",
       "<style scoped>\n",
       "    .dataframe tbody tr th:only-of-type {\n",
       "        vertical-align: middle;\n",
       "    }\n",
       "\n",
       "    .dataframe tbody tr th {\n",
       "        vertical-align: top;\n",
       "    }\n",
       "\n",
       "    .dataframe thead th {\n",
       "        text-align: right;\n",
       "    }\n",
       "</style>\n",
       "<table border=\"1\" class=\"dataframe\">\n",
       "  <thead>\n",
       "    <tr style=\"text-align: right;\">\n",
       "      <th></th>\n",
       "      <th>drinksid</th>\n",
       "      <th>quantity</th>\n",
       "    </tr>\n",
       "  </thead>\n",
       "  <tbody>\n",
       "    <tr>\n",
       "      <th>0</th>\n",
       "      <td>08b92b62</td>\n",
       "      <td>1</td>\n",
       "    </tr>\n",
       "    <tr>\n",
       "      <th>1</th>\n",
       "      <td>01ff9043</td>\n",
       "      <td>1</td>\n",
       "    </tr>\n",
       "    <tr>\n",
       "      <th>2</th>\n",
       "      <td>07be32c0</td>\n",
       "      <td>12</td>\n",
       "    </tr>\n",
       "    <tr>\n",
       "      <th>3</th>\n",
       "      <td>4e20c475</td>\n",
       "      <td>1</td>\n",
       "    </tr>\n",
       "    <tr>\n",
       "      <th>4</th>\n",
       "      <td>30e76a3a</td>\n",
       "      <td>1</td>\n",
       "    </tr>\n",
       "  </tbody>\n",
       "</table>\n",
       "</div>"
      ],
      "text/plain": [
       "   drinksid quantity\n",
       "0  08b92b62        1\n",
       "1  01ff9043        1\n",
       "2  07be32c0       12\n",
       "3  4e20c475        1\n",
       "4  30e76a3a        1"
      ]
     },
     "execution_count": 8,
     "metadata": {},
     "output_type": "execute_result"
    }
   ],
   "source": [
    "drinksid = []\n",
    "quantity = []\n",
    "for i in my_list:\n",
    "    quantity.append((list(i['textAnswers']['answers'])[0]['value']))\n",
    "    drinksid.append(list(i.values())[0])\n",
    "drinks_order = {'drinksid':drinksid, 'quantity':quantity}\n",
    "drinks_order = pd.DataFrame(drinks_order)\n",
    "drinks_order.head()"
   ]
  },
  {
   "cell_type": "markdown",
   "id": "52ed6837",
   "metadata": {},
   "source": [
    "#### 3. Joining the response table with the metadata table"
   ]
  },
  {
   "cell_type": "code",
   "execution_count": 9,
   "id": "6506a10f",
   "metadata": {},
   "outputs": [],
   "source": [
    "drinks_order_final = drinks_order.merge(drinks_info[['drinksid','name_eng']], on='drinksid', how='left')"
   ]
  },
  {
   "cell_type": "code",
   "execution_count": 10,
   "id": "0049a5d7",
   "metadata": {},
   "outputs": [
    {
     "data": {
      "text/html": [
       "<div>\n",
       "<style scoped>\n",
       "    .dataframe tbody tr th:only-of-type {\n",
       "        vertical-align: middle;\n",
       "    }\n",
       "\n",
       "    .dataframe tbody tr th {\n",
       "        vertical-align: top;\n",
       "    }\n",
       "\n",
       "    .dataframe thead th {\n",
       "        text-align: right;\n",
       "    }\n",
       "</style>\n",
       "<table border=\"1\" class=\"dataframe\">\n",
       "  <thead>\n",
       "    <tr style=\"text-align: right;\">\n",
       "      <th></th>\n",
       "      <th>drinksid</th>\n",
       "      <th>quantity</th>\n",
       "      <th>name_eng</th>\n",
       "    </tr>\n",
       "  </thead>\n",
       "  <tbody>\n",
       "    <tr>\n",
       "      <th>0</th>\n",
       "      <td>08b92b62</td>\n",
       "      <td>1</td>\n",
       "      <td>HSC Oldenlandia</td>\n",
       "    </tr>\n",
       "    <tr>\n",
       "      <th>1</th>\n",
       "      <td>01ff9043</td>\n",
       "      <td>1</td>\n",
       "      <td>Pokka Oolong Tea</td>\n",
       "    </tr>\n",
       "    <tr>\n",
       "      <th>2</th>\n",
       "      <td>07be32c0</td>\n",
       "      <td>12</td>\n",
       "      <td>Kaya</td>\n",
       "    </tr>\n",
       "    <tr>\n",
       "      <th>3</th>\n",
       "      <td>4e20c475</td>\n",
       "      <td>1</td>\n",
       "      <td>Yeos Lemon Barley</td>\n",
       "    </tr>\n",
       "    <tr>\n",
       "      <th>4</th>\n",
       "      <td>30e76a3a</td>\n",
       "      <td>1</td>\n",
       "      <td>Season Ice Lemon Tea</td>\n",
       "    </tr>\n",
       "  </tbody>\n",
       "</table>\n",
       "</div>"
      ],
      "text/plain": [
       "   drinksid quantity              name_eng\n",
       "0  08b92b62        1       HSC Oldenlandia\n",
       "1  01ff9043        1      Pokka Oolong Tea\n",
       "2  07be32c0       12                  Kaya\n",
       "3  4e20c475        1     Yeos Lemon Barley\n",
       "4  30e76a3a        1  Season Ice Lemon Tea"
      ]
     },
     "execution_count": 10,
     "metadata": {},
     "output_type": "execute_result"
    }
   ],
   "source": [
    "drinks_order_final.head()"
   ]
  },
  {
   "cell_type": "markdown",
   "id": "1cb7bd39",
   "metadata": {},
   "source": [
    "#### 4. Concatenating the relevant information"
   ]
  },
  {
   "cell_type": "code",
   "execution_count": 11,
   "id": "d262bd2a",
   "metadata": {},
   "outputs": [],
   "source": [
    "finalorder = drinks_order_final[\"name_eng\"] + \" \" + drinks_order_final[\"quantity\"]"
   ]
  },
  {
   "cell_type": "code",
   "execution_count": 12,
   "id": "d0756abd",
   "metadata": {},
   "outputs": [],
   "source": [
    "finalorder.to_csv('orderfinal.txt',index=False)"
   ]
  }
 ],
 "metadata": {
  "kernelspec": {
   "display_name": "Python 3 (ipykernel)",
   "language": "python",
   "name": "python3"
  },
  "language_info": {
   "codemirror_mode": {
    "name": "ipython",
    "version": 3
   },
   "file_extension": ".py",
   "mimetype": "text/x-python",
   "name": "python",
   "nbconvert_exporter": "python",
   "pygments_lexer": "ipython3",
   "version": "3.9.7"
  }
 },
 "nbformat": 4,
 "nbformat_minor": 5
}
